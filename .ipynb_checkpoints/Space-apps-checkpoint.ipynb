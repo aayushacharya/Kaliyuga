{
 "cells": [
  {
   "cell_type": "markdown",
   "metadata": {},
   "source": [
    "<h1>KALI YUGA ( कलि युग )</h1><br>\n",
    "<i>A Space Apps Challenge</i>\n",
    "<hr>"
   ]
  },
  {
   "cell_type": "markdown",
   "metadata": {},
   "source": [
    "<h2>Context:</h2><br>\n",
    "<p>On cold winter nights when everybody was home, gathering around for listening 'दन्त्य कथा's(stories passed down from generations based on hearsay which is believed to be true), I always felt a sudden rush of blood. The mere excitement of listening to something unheard, imagining yourself in the place of the protagonist, travelling through imagination to unchartered waters were things I always looked up to before sitting down to listen these stories.</p>\n",
    "<p>Today we were listening to a different story. A story whose ending was yet to be told. It was no 'दन्त्य कथा', it was something different, something that had been written in all of the religious texts through various timeframes. Today was different because I could no longer relate to the protagonist quite simply because I didn't have to, I was in the story. <b>I am the story</b>.</p>\n",
    "<p>Suddenly everything felt real. Without wanting to be, I was the antagonist of this story, if it were a story. There were no protagonists. I felt helpless. Years down the line, I have never been able to fully comprehend the story of the four 'yugas' (time periods relating in a cycle). Are we actually living in it?</p>\n",
    "<br>\n",
    "<h2>The Four Yugas:</h2><br>\n",
    "<ol>\n",
    "    <li><h3><i>The Krita Yuga:</i></h3><br>\n",
    "        <p>This was a time periods where there was no distinction between Gods and humans. They would meet and greet, they would medidate and they had all the joy and euphoria in the world. This was an age where there was only one meaning of धर्म (way of life ;truth ;right or wrong, pronounced as 'dharma'). This was an age where people usually lived longer. But as nothing lasts for eternity, by the end of the Krita Yuga, the eternal joy in people dried out</p>\n",
    "        <img src='imgs/Krita-Yuga.jpg'>\n",
    "    </li>\n",
    "    <li><h3><i>The Treta Yuga:</i></h3><br>\n",
    "        <p>As the joy started to dry out among men, it poured in the earth in the form of sacral rain which brought joy in the form of trees. People lived among the trees and were ecstasic. But still there was a void left by the joy that had dried out. So evil first rose upon the land. People started to hoard the trees to fulfil the void that was left by the joy drying out in their hearts. The meaning of 'dharma' was split into four. Slowly all the trees started to vanish and people realized their mistakes. They redirected themselves to the path of dharma. Slowly the trees appeared again. </p>\n",
    "        <img src='imgs/Greed.jpg'>\n",
    "    </li>\n",
    "    <li><h3><i>The Dwapar Yuga:</i></h3><br>\n",
    "        <p>When the trees reappeared again, people again started to collect them so that they wouldn't lose it like the last time. 'Evil' too was split into greed and fear occupying the void by creating more of it. Dharma was split and so were men and Gods. Slowly, nature started to take it's toll.</p>\n",
    "        <img src='imgs/nature-destruction.jpg'>\n",
    "    </li>\n",
    "    <li><h3><i>The Kali Yuga:</i></h3><br>\n",
    "        <p>The meaning of dharma was totally split. God has left the Earth. Arrogance and sin passed for wisdom and righteousness, brashness and a loud voice for scholarship. Only the poor have any honesty or virtue left, which too has become corrupt through the atrocities imposed by powerful men. Unimaginable evil has engulfed the children of men. The very affectation of being great has passed for greatness and boastfulness for heroism. The lands will be infested by diseases. The Earth will be havoced so much so that it will beg for salvation. And salvation it will receive in the form of a big destruction. The destruction of mankind. </p>\n",
    "        <img src='imgs/Kali-Yuga.jpeg'>\n",
    "    </li>\n",
    "    \n",
    "</ol>\n",
    "<hr>\n",
    "<h2>Conclusion:</h2><br>\n",
    "<p>The realities about all the yugas are very similar to the ones the challenges that we are faced today. There is no doubt that God has left this place and we are in Kali Yuga. But is there still hope? Are the recent situations helping?</p>\n",
    "<hr>\n"
   ]
  },
  {
   "cell_type": "markdown",
   "metadata": {},
   "source": [
    "<h2> A look at the current situation </h2><br>\n",
    "<p>This project is done using <i>R</i> programming language <i>version 4.0.0</i>. As of May 31, 2020, all the packages are up to date and of their latest versions. All of the packages are available in <i>CRAN Repository</i> Please make sure you have all the packages installed. Also R kernel should be separately installed for Jupyter Notebook.</p>\n",
    "<p>The three main focus points of this project are:\n",
    "    <ol>\n",
    "        <li>Is there a reduction in Angstrom Exponent (Aerosol Density)?</li>\n",
    "        <li>Are Ice extents are increasing?</li>\n",
    "        <li>Is the Sea Surface temperature decreasing? </li>\n",
    "        </ol>\n",
    "</p>\n",
    "<hr>"
   ]
  },
  {
   "cell_type": "markdown",
   "metadata": {},
   "source": [
    "<h2>Loading the packages</h2>"
   ]
  },
  {
   "cell_type": "code",
   "execution_count": null,
   "metadata": {},
   "outputs": [],
   "source": [
    "library(ncdf4)\n",
    "library(dplyr)\n",
    "library(chron)\n",
    "library(RColorBrewer)\n",
    "library(lattice)\n",
    "library(ggplot2)\n",
    "theme_set(theme_bw())\n",
    "library(sf)\n",
    "library(ggspatial)\n",
    "library(rnaturalearth)\n",
    "library(rnaturalearthdata)\n",
    "library(readxl)\n"
   ]
  },
  {
   "cell_type": "markdown",
   "metadata": {},
   "source": [
    "<h2>Loading NASA data</h2>"
   ]
  },
  {
   "cell_type": "code",
   "execution_count": null,
   "metadata": {},
   "outputs": [],
   "source": [
    "#open files in netcdf,h5,xls and csv format\n",
    "\n",
    "#Aerosols\n",
    "aerosol_2015<-nc_open('Aerosols/Monthly/April-yearly/2015.nc')\n",
    "aerosol_2016<-nc_open('Aerosols/Monthly/April-yearly/2016.nc')\n",
    "aerosol_2017<-nc_open('Aerosols/Monthly/April-yearly/2017.nc')\n",
    "aerosol_2018<-nc_open('Aerosols/Monthly/April-yearly/2018.nc')\n",
    "aerosol_2019<-nc_open('Aerosols/Monthly/April-yearly/2019.nc')\n",
    "aerosol_2020<-nc_open('Aerosols/Monthly/April-yearly/2020.nc')"
   ]
  },
  {
   "cell_type": "code",
   "execution_count": null,
   "metadata": {},
   "outputs": [],
   "source": [
    "#Ice Area\n",
    "january_ice_extent<-read.csv('Ice_area/January.csv')\n",
    "february_ice_extent<-read.csv('Ice_area/February.csv')\n",
    "march_ice_extent<-read.csv('Ice_area/March.csv')\n",
    "april_ice_extent<-read.csv('Ice_area/April.csv')\n",
    "may_ice_extent<-read.csv('Ice_area/May.csv')\n",
    "june_ice_extent<-read.csv('Ice_area/June.csv')\n",
    "july_ice_extent<-read.csv('Ice_area/July.csv')\n",
    "august_ice_extent<-read.csv('Ice_area/August.csv')\n",
    "september_ice_extent<-read.csv('Ice_area/September.csv')\n",
    "october_ice_extent<-read.csv('Ice_area/October.csv')\n",
    "november_ice_extent<-read.csv('Ice_area/November.csv')\n",
    "december_ice_extent<-read.csv('Ice_area/December.csv')\n",
    "all_region_ice_extent<-read.csv('Ice_area/Ice_Extent_By_Region_SQKM_4KM.csv')"
   ]
  },
  {
   "cell_type": "code",
   "execution_count": null,
   "metadata": {},
   "outputs": [],
   "source": [
    "#Ocean\n",
    "ocean_temperature_2004<-nc_open('Ocean/Temperature/2004_NSST.nc')\n",
    "ocean_temperature_2019<-nc_open('Ocean/Temperature/2019_NSST.nc')\n",
    "ocean_temperature_2020<-nc_open('Ocean/Temperature/2020_NSST.nc')\n"
   ]
  },
  {
   "cell_type": "markdown",
   "metadata": {},
   "source": [
    "<h2>Preprocessing Functions</h2>"
   ]
  },
  {
   "cell_type": "code",
   "execution_count": null,
   "metadata": {},
   "outputs": [],
   "source": [
    "#Preprocessing functions\n",
    "plotMap <- function(lat,lon,tas,titleText,scaleName,gradient='viridis',limits=c(0,3),gradient_direction=-1)\n",
    "{\n",
    "  \n",
    "  expand.grid(lon, lat) %>%\n",
    "    rename(lon = Var1, lat = Var2) %>%\n",
    "    mutate(lon = ifelse(lon > 180, -(360 - lon), lon),\n",
    "           tas = as.vector(tas)) %>% \n",
    "    ggplot() + \n",
    "    geom_point(aes(x = lon, y = lat, color = tas),size = 1) + \n",
    "    borders(\"world\", colour=\"black\", fill=NA) +\n",
    "    xlab(\"Longitude\")+\n",
    "    ylab(\"Latitude\")+\n",
    "    scale_color_viridis_c(alpha=0.8,na.value=\"white\",name = scaleName,option =gradient,limits=limits,direction=gradient_direction) + \n",
    "    theme(legend.direction=\"vertical\", legend.position=\"right\", legend.key.width=unit(0.4,\"cm\"), legend.key.height=unit(1.5,\"cm\")) + \n",
    "    coord_quickmap() + \n",
    "    ggtitle(titleText) \n",
    "}"
   ]
  },
  {
   "cell_type": "markdown",
   "metadata": {},
   "source": [
    "<h3>Fun fact:<i>Mount Everest was visible from Kathmandu after several years due to lockdown</i></h3>\n",
    "<img src='imgs/Everest.jpeg'>"
   ]
  },
  {
   "cell_type": "code",
   "execution_count": null,
   "metadata": {},
   "outputs": [],
   "source": [
    "#Processing Aerosols\n",
    "#2015\n",
    "aer_2015_angstrom_exponent<-ncvar_get(aerosol_2015,\"Angstrom_Exponent_Land_Ocean_Maximum\")\n",
    "aer_2015_latitude<-ncvar_get(aerosol_2015,\"Latitude_1D\")\n",
    "aer_2015_longitude<-ncvar_get(aerosol_2015,\"Longitude_1D\")\n",
    "aer_2015_title<-\"Angstrom Exponent in April of 2015\"\n",
    "aer_2015_unit<-\"Angstrom Exponent\"\n",
    "aer_2015_gradient<-'magma'\n",
    "aer_2015_limits<-c(0,2)\n",
    "nc_close(aerosol_2015)\n",
    "#2019\n",
    "aer_2019_angstrom_exponent<-ncvar_get(aerosol_2019,\"Angstrom_Exponent_Land_Ocean_Maximum\")\n",
    "aer_2019_latitude<-ncvar_get(aerosol_2019,\"Latitude_1D\")\n",
    "aer_2019_longitude<-ncvar_get(aerosol_2019,\"Longitude_1D\")\n",
    "aer_2019_title<-\"Angstrom Exponent in April of 2019\"\n",
    "aer_2019_unit<-\"Angstrom Exponent\"\n",
    "aer_2019_gradient<-'magma'\n",
    "aer_2019_limits<-c(0,2)\n",
    "nc_close(aerosol_2019)\n",
    "#2020\n",
    "aer_2020_angstrom_exponent<-ncvar_get(aerosol_2020,\"Angstrom_Exponent_Land_Ocean_Maximum\")\n",
    "aer_2020_latitude<-ncvar_get(aerosol_2020,\"Latitude_1D\")\n",
    "aer_2020_longitude<-ncvar_get(aerosol_2020,\"Longitude_1D\")\n",
    "aer_2020_title<-\"Angstrom Exponent in April of 2020\"\n",
    "aer_2020_unit<-\"Angstrom Exponent\"\n",
    "aer_2020_gradient<-'magma'\n",
    "aer_2020_limits<-c(0,2)\n",
    "nc_close(aerosol_2020)"
   ]
  },
  {
   "cell_type": "code",
   "execution_count": null,
   "metadata": {},
   "outputs": [],
   "source": [
    "#plotting aerosols\n",
    "options(repr.plot.width = 10, repr.plot.height = 7.5, repr.plot.res = 1000)\n",
    "plotMap(aer_2015_latitude,aer_2015_longitude,aer_2015_angstrom_exponent,aer_2015_title,aer_2015_unit,gradient=aer_2015_gradient,limits=aer_2015_limits)"
   ]
  },
  {
   "cell_type": "code",
   "execution_count": null,
   "metadata": {},
   "outputs": [],
   "source": [
    "plotMap(aer_2019_latitude,aer_2019_longitude,aer_2019_angstrom_exponent,aer_2019_title,aer_2019_unit,gradient=aer_2019_gradient,limits=aer_2019_limits)"
   ]
  },
  {
   "cell_type": "markdown",
   "metadata": {},
   "source": [
    "<h4>The Aerosol value has increased everywhere by some amount and significantly in sparse places in 2019 in comparison to 2015</h4>"
   ]
  },
  {
   "cell_type": "code",
   "execution_count": null,
   "metadata": {},
   "outputs": [],
   "source": [
    "plotMap(aer_2020_latitude,aer_2020_longitude,aer_2020_angstrom_exponent,aer_2020_title,aer_2020_unit,gradient=aer_2020_gradient,limits=aer_2020_limits)"
   ]
  },
  {
   "cell_type": "markdown",
   "metadata": {},
   "source": [
    "<h3>It can be seen particularly in Europe where most of the countries were in lockdown that Angstrom Component has reduced significantly</h3><br>\n",
    "<p><i>Regardless, it is a very insignificant amount</i></p>\n",
    "<hr>"
   ]
  },
  {
   "cell_type": "markdown",
   "metadata": {},
   "source": [
    "<h2>Ice Data processing</h2>"
   ]
  },
  {
   "cell_type": "code",
   "execution_count": null,
   "metadata": {},
   "outputs": [],
   "source": [
    "#Ice-area processing\n",
    "\n",
    "#Plotting\n",
    "ggplot(data=april_ice_extent)+\n",
    "  geom_point(aes(x=year,y=extent,color=year))+\n",
    "  ggtitle('Ice extent (mil. sq. km) in April of every year')+\n",
    "  xlab('Year')+\n",
    "  ylab('Ice Extent in mil. sq. km')+\n",
    "  scale_color_gradient(low='#A9C8F3',high='#0C2389')\n",
    " "
   ]
  },
  {
   "cell_type": "code",
   "execution_count": null,
   "metadata": {},
   "outputs": [],
   "source": [
    "ice_extent_2015<-c(january_ice_extent$extent[january_ice_extent$year==2015],february_ice_extent$extent[february_ice_extent$year==2015],march_ice_extent$extent[march_ice_extent$year==2015],april_ice_extent$extent[april_ice_extent$year==2015])\n",
    " ice_extent_2016<-c(january_ice_extent$extent[january_ice_extent$year==2016],february_ice_extent$extent[february_ice_extent$year==2016],march_ice_extent$extent[march_ice_extent$year==2016],april_ice_extent$extent[april_ice_extent$year==2016])\n",
    " ice_extent_2017<-c(january_ice_extent$extent[january_ice_extent$year==2017],february_ice_extent$extent[february_ice_extent$year==2017],march_ice_extent$extent[march_ice_extent$year==2017],april_ice_extent$extent[april_ice_extent$year==2017])\n",
    " ice_extent_2018<-c(january_ice_extent$extent[january_ice_extent$year==2018],february_ice_extent$extent[february_ice_extent$year==2018],march_ice_extent$extent[march_ice_extent$year==2018],april_ice_extent$extent[april_ice_extent$year==2018])\n",
    " ice_extent_2019<-c(january_ice_extent$extent[january_ice_extent$year==2019],february_ice_extent$extent[february_ice_extent$year==2019],march_ice_extent$extent[march_ice_extent$year==2019],april_ice_extent$extent[april_ice_extent$year==2019])\n",
    " ice_extent_2020<-c(january_ice_extent$extent[january_ice_extent$year==2020],february_ice_extent$extent[february_ice_extent$year==2020],march_ice_extent$extent[march_ice_extent$year==2020],april_ice_extent$extent[april_ice_extent$year==2020])\n",
    " ice_extent_month<-c('January','February','March','April')\n",
    " ice_extent_monthly_data_2015<-data.frame(Month=ice_extent_month,Extent=ice_extent_2015)\n",
    " ice_extent_monthly_data_2016<-data.frame(Month=ice_extent_month,Extent=ice_extent_2016)\n",
    " ice_extent_monthly_data_2017<-data.frame(Month=ice_extent_month,Extent=ice_extent_2017)\n",
    " ice_extent_monthly_data_2018<-data.frame(Month=ice_extent_month,Extent=ice_extent_2018)\n",
    " ice_extent_monthly_data_2019<-data.frame(Month=ice_extent_month,Extent=ice_extent_2019)\n",
    " ice_extent_monthly_data_2020<-data.frame(Month=ice_extent_month,Extent=ice_extent_2020)"
   ]
  },
  {
   "cell_type": "markdown",
   "metadata": {},
   "source": [
    "<h3><i>Some parts of Greenland weren't supposed to melt until 2070</i></h3>\n",
    "<img src='imgs/Ice.jpg'>"
   ]
  },
  {
   "cell_type": "code",
   "execution_count": null,
   "metadata": {},
   "outputs": [],
   "source": [
    "#plotting\n",
    "cols<-c('2020'='maroon','2019'='skyblue','2018'='lightgreen','2017'='peachpuff4','2016'='darkorchid3','2015'='midnightblue')\n",
    " ggplot(data=ice_extent_monthly_data_2020)+\n",
    "   geom_line(aes(x=factor(Month,level=ice_extent_month),y=Extent,group=1, colour=\"2020\"),size=1.0)+\n",
    "   geom_point(aes(x=factor(Month,level=ice_extent_month),y=Extent,colour='2020'))+\n",
    "   geom_line(data=ice_extent_monthly_data_2019,aes(x=factor(Month,level=ice_extent_month),y=Extent,group=1, colour=\"2019\"),size=1.0)+\n",
    "   geom_point(data=ice_extent_monthly_data_2019,aes(x=factor(Month,level=ice_extent_month),y=Extent,colour='2019'))+\n",
    "   geom_line(data=ice_extent_monthly_data_2018,aes(x=factor(Month,level=ice_extent_month),y=Extent,group=1, colour=\"2018\"),size=1.0)+\n",
    "   geom_point(data=ice_extent_monthly_data_2018,aes(x=factor(Month,level=ice_extent_month),y=Extent,colour='2018'))+\n",
    "   geom_line(data=ice_extent_monthly_data_2017,aes(x=factor(Month,level=ice_extent_month),y=Extent,group=1, colour=\"2017\"),size=1.0)+\n",
    "   geom_point(data=ice_extent_monthly_data_2017,aes(x=factor(Month,level=ice_extent_month),y=Extent,colour='2017'))+\n",
    "   geom_line(data=ice_extent_monthly_data_2016,aes(x=factor(Month,level=ice_extent_month),y=Extent,group=1, colour=\"2016\"),size=1.0)+\n",
    "   geom_point(data=ice_extent_monthly_data_2016,aes(x=factor(Month,level=ice_extent_month),y=Extent,colour='2016'))+\n",
    "   geom_line(data=ice_extent_monthly_data_2015,aes(x=factor(Month,level=ice_extent_month),y=Extent,group=1, colour=\"2015\"),size=1.0)+\n",
    "   geom_point(data=ice_extent_monthly_data_2015,aes(x=factor(Month,level=ice_extent_month),y=Extent,colour='2015'))+\n",
    "   ggtitle('Monthly Ice extent in million sq. km in 2015-2020')+\n",
    "   scale_color_manual(name='Year',values=cols)+\n",
    "   xlab('Month')+\n",
    "   ylab('Ice Extent in mill. sq. km')\n",
    "   "
   ]
  },
  {
   "cell_type": "markdown",
   "metadata": {},
   "source": [
    "<h3>Positive signs in 2020 as the extent of Ice is rising.</h3>"
   ]
  },
  {
   "cell_type": "code",
   "execution_count": null,
   "metadata": {},
   "outputs": [],
   "source": [
    "#Greenland Sea\n",
    " greenland_sea_no_days_2015<-1:sum(all_region_ice_extent$yyyyddd>=2015001 & all_region_ice_extent$yyyyddd<=2015149)\n",
    " greenland_sea_no_days_2016<-1:sum(all_region_ice_extent$yyyyddd>=2016001 & all_region_ice_extent$yyyyddd<=2016149)\n",
    " greenland_sea_no_days_2017<-1:sum(all_region_ice_extent$yyyyddd>=2017001 & all_region_ice_extent$yyyyddd<=2017149)\n",
    " greenland_sea_no_days_2018<-1:sum(all_region_ice_extent$yyyyddd>=2018001 & all_region_ice_extent$yyyyddd<=2018149)\n",
    " greenland_sea_no_days_2019<-1:sum(all_region_ice_extent$yyyyddd>=2019001 & all_region_ice_extent$yyyyddd<=2019149)\n",
    " greenland_sea_no_days_2020<-1:sum(all_region_ice_extent$yyyyddd>=2020001 & all_region_ice_extent$yyyyddd<=2020149)\n",
    " greenland_sea_extent_2015<-all_region_ice_extent$X.7..Greenland_Sea[all_region_ice_extent$yyyyddd>=2015001 & all_region_ice_extent$yyyyddd<=2015149]\n",
    " greenland_sea_extent_2016<-all_region_ice_extent$X.7..Greenland_Sea[all_region_ice_extent$yyyyddd>=2016001 & all_region_ice_extent$yyyyddd<=2016149]\n",
    " greenland_sea_extent_2017<-all_region_ice_extent$X.7..Greenland_Sea[all_region_ice_extent$yyyyddd>=2017001 & all_region_ice_extent$yyyyddd<=2017149]\n",
    " greenland_sea_extent_2018<-all_region_ice_extent$X.7..Greenland_Sea[all_region_ice_extent$yyyyddd>=2018001 & all_region_ice_extent$yyyyddd<=2018149]\n",
    " greenland_sea_extent_2019<-all_region_ice_extent$X.7..Greenland_Sea[all_region_ice_extent$yyyyddd>=2019001 & all_region_ice_extent$yyyyddd<=2019149]\n",
    " greenland_sea_extent_2020<-all_region_ice_extent$X.7..Greenland_Sea[all_region_ice_extent$yyyyddd>=2020001 & all_region_ice_extent$yyyyddd<=2020149]\n",
    " \n",
    " greenland_sea_2015<-data.frame(Days=greenland_sea_no_days_2015,Extent=greenland_sea_extent_2015)\n",
    " greenland_sea_2016<-data.frame(Days=greenland_sea_no_days_2016,Extent=greenland_sea_extent_2016)\n",
    " greenland_sea_2017<-data.frame(Days=greenland_sea_no_days_2017,Extent=greenland_sea_extent_2017)\n",
    " greenland_sea_2018<-data.frame(Days=greenland_sea_no_days_2018,Extent=greenland_sea_extent_2018)\n",
    " greenland_sea_2019<-data.frame(Days=greenland_sea_no_days_2019,Extent=greenland_sea_extent_2019)\n",
    " greenland_sea_2020<-data.frame(Days=greenland_sea_no_days_2020,Extent=greenland_sea_extent_2020)"
   ]
  },
  {
   "cell_type": "code",
   "execution_count": null,
   "metadata": {},
   "outputs": [],
   "source": [
    "#Plotting Greenland Sea\n",
    " ggplot(data=greenland_sea_2015)+\n",
    "   geom_line(aes(x=Days,y=Extent,colour='2015',group=1),size=1.0)+\n",
    "   geom_point(aes(x=Days,y=Extent,colour='2015'))+\n",
    "   geom_line(data=greenland_sea_2016,aes(x=Days,y=Extent,colour='2016',group=1),size=1.0)+\n",
    "   geom_point(data=greenland_sea_2016,aes(x=Days,y=Extent,colour='2016'))+\n",
    "   geom_line(data=greenland_sea_2017,aes(x=Days,y=Extent,colour='2017',group=1),size=1.0)+\n",
    "   geom_point(data=greenland_sea_2017,aes(x=Days,y=Extent,colour='2017'))+\n",
    "   geom_line(data=greenland_sea_2018,aes(x=Days,y=Extent,colour='2018',group=1),size=1.0)+\n",
    "   geom_point(data=greenland_sea_2018,aes(x=Days,y=Extent,colour='2018'))+\n",
    "   geom_line(data=greenland_sea_2019,aes(x=Days,y=Extent,colour='2019',group=1),size=1.0)+\n",
    "   geom_point(data=greenland_sea_2019,aes(x=Days,y=Extent,colour='2019'))+\n",
    "   geom_line(data=greenland_sea_2020,aes(x=Days,y=Extent,colour='2020',group=1),size=1.0)+\n",
    "   geom_point(data=greenland_sea_2020,aes(x=Days,y=Extent,colour='2020'))+\n",
    "   ggtitle('Greenland Sea Ice extent in sq. km in 2015-2020')+\n",
    "   scale_color_manual(name='Year',values=cols)+\n",
    "   xlab('No. of days')+\n",
    "   ylab('Ice Extent in sq. km')\n",
    " "
   ]
  },
  {
   "cell_type": "markdown",
   "metadata": {},
   "source": [
    "<h3>Greenland also showing minor signs of improvement</h3><br>\n",
    "<i>It is important to note that the lockdown cannot be singly stood out for this data</i><hr>"
   ]
  },
  {
   "cell_type": "code",
   "execution_count": null,
   "metadata": {},
   "outputs": [],
   "source": [
    "#Ocean processing\n",
    "ocn_2004_sst<-ncvar_get(ocean_temperature_2004,\"sst\")\n",
    "ocn_2004_latitude<-ncvar_get(ocean_temperature_2004,\"lat\")\n",
    "ocn_2004_longitude<-ncvar_get(ocean_temperature_2004,\"lon\")\n",
    "ocn_2004_sst<-ocn_2004_sst[seq(1,length(ocn_2004_longitude),10),seq(1,length(ocn_2004_latitude),10)]\n",
    "ocn_2004_latitude<-ocn_2004_latitude[seq(1,length(ocn_2004_latitude),10)]\n",
    "ocn_2004_longitude<-ocn_2004_longitude[seq(1,length(ocn_2004_longitude),10)]\n",
    "ocn_2004_title<-\"Sea surface temperatures in April of 2020\"\n",
    "ocn_2004_unit<-\"Celsius\"\n",
    "ocn_2004_gradient<-'inferno'\n",
    "ocn_2004_limits<-c(-1.8,33.6)\n",
    "nc_close(ocean_temperature_2004)\n",
    "\n",
    "ocn_2019_sst<-ncvar_get(ocean_temperature_2019,\"sst\")\n",
    "ocn_2019_latitude<-ncvar_get(ocean_temperature_2019,\"lat\")\n",
    "ocn_2019_longitude<-ncvar_get(ocean_temperature_2019,\"lon\")\n",
    "ocn_2019_sst<-ocn_2019_sst[seq(1,length(ocn_2019_longitude),10),seq(1,length(ocn_2019_latitude),10)]\n",
    "ocn_2019_latitude<-ocn_2019_latitude[seq(1,length(ocn_2019_latitude),10)]\n",
    "ocn_2019_longitude<-ocn_2019_longitude[seq(1,length(ocn_2019_longitude),10)]\n",
    "ocn_2019_title<-\"Sea surface temperatures in April of 2020\"\n",
    "ocn_2019_unit<-\"Celsius\"\n",
    "ocn_2019_gradient<-'inferno'\n",
    "ocn_2019_limits<-c(-1.8,33.6)\n",
    "nc_close(ocean_temperature_2019)\n",
    "\n",
    "ocn_2020_sst<-ncvar_get(ocean_temperature_2020,\"sst\")\n",
    "ocn_2020_latitude<-ncvar_get(ocean_temperature_2020,\"lat\")\n",
    "ocn_2020_longitude<-ncvar_get(ocean_temperature_2020,\"lon\")\n",
    "ocn_2020_sst<-ocn_2020_sst[seq(1,length(ocn_2020_longitude),10),seq(1,length(ocn_2020_latitude),10)]\n",
    "ocn_2020_latitude<-ocn_2020_latitude[seq(1,length(ocn_2020_latitude),10)]\n",
    "ocn_2020_longitude<-ocn_2020_longitude[seq(1,length(ocn_2020_longitude),10)]\n",
    "ocn_2020_title<-\"Sea surface temperatures in April of 2020\"\n",
    "ocn_2020_unit<-\"Celsius\"\n",
    "ocn_2020_gradient<-'inferno'\n",
    "ocn_2020_limits<-c(-1.8,33.6)\n",
    "nc_close(ocean_temperature_2020)"
   ]
  },
  {
   "cell_type": "markdown",
   "metadata": {},
   "source": [
    "<h3><i>Damage done to Coral reefs due to high sea temperatures may have an irrevocable effect by 2020</i></h3>\n",
    "<img src='imgs/Coral-Reef.jpg'>"
   ]
  },
  {
   "cell_type": "markdown",
   "metadata": {},
   "source": [
    "<h3>2004 Sea Surface Temperatures</h3>"
   ]
  },
  {
   "cell_type": "code",
   "execution_count": null,
   "metadata": {},
   "outputs": [],
   "source": [
    "#Plotting sea surface temperatures\n",
    "\n",
    "plotMap(ocn_2004_latitude,ocn_2004_longitude,ocn_2004_sst,ocn_2004_title,ocn_2004_unit,gradient=ocn_2004_gradient,limits=ocn_2004_limits,gradient_direction = 1)"
   ]
  },
  {
   "cell_type": "markdown",
   "metadata": {},
   "source": [
    "<h3>2019 Sea Surface Temperatures</h3><br>\n",
    "<i>Keep an eye out for the Indian Ocean</i>"
   ]
  },
  {
   "cell_type": "code",
   "execution_count": null,
   "metadata": {},
   "outputs": [],
   "source": [
    "plotMap(ocn_2019_latitude,ocn_2019_longitude,ocn_2019_sst,ocn_2019_title,ocn_2019_unit,gradient=ocn_2019_gradient,limits=ocn_2019_limits,gradient_direction = 1)"
   ]
  },
  {
   "cell_type": "markdown",
   "metadata": {},
   "source": [
    "<h3>2020 Sea Surface Temperatures</h3><br>\n",
    "<i>As expected, sadly, no significant changes yet in the surface temperatures as this process usually takes a large amount of time</i>"
   ]
  },
  {
   "cell_type": "code",
   "execution_count": null,
   "metadata": {},
   "outputs": [],
   "source": [
    "plotMap(ocn_2020_latitude,ocn_2020_longitude,ocn_2020_sst,ocn_2020_title,ocn_2020_unit,gradient=ocn_2020_gradient,limits=ocn_2020_limits,gradient_direction = 1)"
   ]
  },
  {
   "cell_type": "markdown",
   "metadata": {},
   "source": [
    "<hr>\n",
    "<h2>What to make of this?</h2><br>\n",
    "\n",
    "<p>The data presented is just a miniscule representation of the effects of the lockdown and the effects of mankind prior to it. What should we make of this data?</p>\n",
    "<p>In my opinion, so far this data doesn't represent much because it is too soon to observe the effects of lockdown\n",
    "in what has been the worst years for nature and ultimately mankind. But we shouldn't lose all hope. There is light at the end of the tunnel and the COVID-19 crisis is a very difficult period for many countries, it is also a much needed healing time for nature.</p>\n",
    "<hr>\n",
    "<h2>In the end ... </h2><br>\n",
    "<p>I want to end by showing one of the most wonderful paintings in the world, <i><b>The Garden of Earthly Delights</b></i>.\n",
    " <img src='imgs/Garden-of-earthly-delights.jpg'>\n",
    "<p>The best part of this painting is in the front where it is like a cover of the book. In it the atmosphere of the earth is represented as a fragile glass. We do not know for sure how fragile the glass is and let us hope we shall never know. Let us not be the antagonists to our own reality. Let us make our own <i>Krita Yuga</i></p>\n",
    "<hr>"
   ]
  },
  {
   "cell_type": "markdown",
   "metadata": {},
   "source": [
    "<h1>Farewell</h1>\n",
    "<img src='imgs/night-lights.jpg'>\n",
    "<hr>"
   ]
  }
 ],
 "metadata": {
  "kernelspec": {
   "display_name": "R",
   "language": "R",
   "name": "ir"
  },
  "language_info": {
   "codemirror_mode": "r",
   "file_extension": ".r",
   "mimetype": "text/x-r-source",
   "name": "R",
   "pygments_lexer": "r",
   "version": "4.0.0"
  }
 },
 "nbformat": 4,
 "nbformat_minor": 4
}
